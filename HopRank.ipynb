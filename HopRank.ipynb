{
 "cells": [
  {
   "cell_type": "code",
   "execution_count": null,
   "metadata": {},
   "outputs": [],
   "source": [
    "import sys\n",
    "!{sys.executable} -m pip install graphviz"
   ]
  },
  {
   "cell_type": "markdown",
   "metadata": {},
   "source": [
    "<div style='text-align:center;'>\n",
    "    <h1>HopSurfer in BioPortal</h1>\n",
    "</div>"
   ]
  },
  {
   "cell_type": "markdown",
   "metadata": {},
   "source": [
    "<h2>Dependencies</h2>"
   ]
  },
  {
   "cell_type": "code",
   "execution_count": 30,
   "metadata": {},
   "outputs": [],
   "source": [
    "import warnings\n",
    "warnings.filterwarnings(\"ignore\", message=\"numpy.dtype size changed\")\n",
    "warnings.filterwarnings(\"ignore\", message=\"numpy.ufunc size changed\")\n",
    "\n",
    "import os\n",
    "import graphviz\n",
    "import numpy as np\n",
    "import pandas as pd\n",
    "import networkx as nx\n",
    "import seaborn as sns\n",
    "from scipy.io import mmread\n",
    "import scipy.sparse as sparse\n",
    "from scipy.sparse import diags\n",
    "import matplotlib.pyplot as plt\n",
    "from scipy.sparse import csr_matrix\n",
    "from scipy.sparse import lil_matrix\n",
    "from scipy.sparse import csc_matrix\n",
    "from scipy.sparse.linalg import inv\n",
    "from collections import defaultdict\n",
    "from sklearn.preprocessing import normalize\n",
    "from networkx.drawing.nx_agraph import to_agraph\n"
   ]
  },
  {
   "cell_type": "markdown",
   "metadata": {},
   "source": [
    "<h2>Functions and Methods</h2>"
   ]
  },
  {
   "cell_type": "code",
   "execution_count": 31,
   "metadata": {},
   "outputs": [],
   "source": [
    "##############################################################################\n",
    "# AIC\n",
    "##############################################################################\n",
    "def AIC(loglikelihood, params, observations):\n",
    "    if observations/params > 40:\n",
    "        return (-2 * loglikelihood) + (2 * params) + ((2*params*(params+1))/(observations-params-1))\n",
    "    return (-2 * loglikelihood) + (2 * params)\n",
    "\n",
    "def BIC(loglikelihood, params, observations):\n",
    "    return (-2 * loglikelihood) + (params * np.log(observations))"
   ]
  },
  {
   "cell_type": "code",
   "execution_count": 32,
   "metadata": {},
   "outputs": [],
   "source": [
    "##############################################################################\n",
    "# RANDOM WALK\n",
    "##############################################################################\n",
    "\n",
    "def random_walk_likelihood(structure, transitions, alpha=0.85):\n",
    "    params = []\n",
    "    if alpha is not None and (alpha < 0 or alpha > 1):\n",
    "        raise ValueError(\"damping factor must be between 0 and 1 (inclusive).\")\n",
    "        return None, None\n",
    "\n",
    "    params = [alpha]\n",
    "    N = structure.shape[0]\n",
    "    \n",
    "    if alpha > 0:\n",
    "        \n",
    "        if alpha == 1.0:\n",
    "            alpha = 0.99999\n",
    "            \n",
    "        ### random walk\n",
    "        P = csr_matrix(alpha * normalize(structure, norm='l1', axis=1))\n",
    "        T = csr_matrix( (np.ones((N,N))*(1-alpha)) / N )\n",
    "        P = csr_matrix(P + T)\n",
    "    else:\n",
    "        ### always random jump (teleportation)\n",
    "        P = csr_matrix(np.ones((N,N)) / N)\n",
    "        \n",
    "    ### log-likelihood\n",
    "    l = (transitions.toarray() * np.log(P.toarray())).sum()\n",
    "    return l,params"
   ]
  },
  {
   "cell_type": "code",
   "execution_count": 33,
   "metadata": {},
   "outputs": [],
   "source": [
    "##############################################################################\n",
    "# HOP RANK\n",
    "##############################################################################\n",
    "\n",
    "def hop_counts(structure):\n",
    "    hops = csr_matrix(structure.shape, dtype=np.int8)\n",
    "    previous_hops = None\n",
    "    \n",
    "    hop = 1\n",
    "    structure.setdiag(0)\n",
    "    m = structure.copy()\n",
    "\n",
    "    hops = np.multiply(m,hop)\n",
    "    \n",
    "    while m.sum() > 0:\n",
    "        \n",
    "        if previous_hops is None:\n",
    "            previous_hops = m.copy()\n",
    "        else:\n",
    "            previous_hops += m.copy()\n",
    "        \n",
    "        m = structure.copy()\n",
    "        for h in range(hop):\n",
    "            m = lil_matrix(m.dot(structure))\n",
    "            m = (m>0).astype(np.int8)\n",
    "            \n",
    "        m.setdiag(0)\n",
    "        m -= previous_hops\n",
    "        m = (m>0).astype(np.int8)\n",
    "        m.setdiag(0)\n",
    "        m.eliminate_zeros()\n",
    "        \n",
    "        hop += 1\n",
    "        hops += np.multiply(m,hop)\n",
    "\n",
    "    hops.setdiag(0) \n",
    "    return hops\n",
    "\n",
    "def hop_alphas(transitions, hops):    \n",
    "    maxhops = int(hops.max()) \n",
    "    total = transitions.sum() + maxhops + 1\n",
    "    alphas = np.zeros(maxhops + 1)\n",
    "    counts = np.zeros(maxhops + 1)\n",
    "    \n",
    "    for hop in range(maxhops+1):\n",
    "        if hop == 0:\n",
    "            counts[hop] = 1 # for selfloops\n",
    "        else:\n",
    "            transitions_in_hop = np.any(hops==hop).astype(np.int8).multiply(transitions)\n",
    "            counts[hop] = transitions_in_hop.sum() + 1\n",
    "        alphas[hop] = counts[hop] / total\n",
    "        \n",
    "    return alphas, counts\n",
    "\n",
    "def load_hop_counts(path,ontology,year):\n",
    "    \n",
    "    hops = None #csr_matrix(structure.shape, dtype=np.int16)\n",
    "    \n",
    "    for fn in os.listdir(path):        \n",
    "        if fn.endswith('HOP.mtx') and fn.startswith('{}_{}_'.format(ontology,year)):\n",
    "            hop = int(fn.split('_')[2].replace('HOP.mtx',''))\n",
    "            m = mmread(os.path.join(path,fn))            \n",
    "            m = m * hop\n",
    "            \n",
    "            if hops is None:\n",
    "                hops = m.copy()\n",
    "            else:\n",
    "                hops = hops + m\n",
    "    return hops\n",
    "\n",
    "def hop_rank_likelihood(structure, transitions, hops=None, alphas=None):\n",
    "    \n",
    "    if hops is None:\n",
    "        hops = hop_counts(structure) # k-hop matrix\n",
    "    \n",
    "    if alphas is None:\n",
    "        alphas, counts = hop_alphas(transitions, hops)\n",
    "        \n",
    "    P = None\n",
    "    N = structure.shape[0]\n",
    "\n",
    "    for hop, alpha in enumerate(alphas):\n",
    "                \n",
    "        if hop == 0:\n",
    "            P = csr_matrix( np.ones((N,N))*(alpha / N ) )\n",
    "        else:\n",
    "            m = csr_matrix(np.isin(hops.toarray(),[hop],assume_unique=False).astype(np.int8))\n",
    "            P += csr_matrix(alpha * normalize(m, norm='l1', axis=1))\n",
    "            \n",
    "    l = (transitions.toarray() * np.log(P.toarray())).sum()\n",
    "    return l,alphas\n",
    "\n",
    "def hop_rank_preferential_attachment_likelihood(structure, transitions, hops=None, alphas=None):\n",
    "    \n",
    "    if hops is None:\n",
    "        hops = hop_counts(structure) # k-hop matrix\n",
    "    \n",
    "    if alphas is None:\n",
    "        alphas, counts = hop_alphas(transitions, hops)\n",
    "        \n",
    "    P = None\n",
    "    N = structure.shape[0]\n",
    "\n",
    "    for hop, alpha in enumerate(alphas):\n",
    "                \n",
    "        if hop == 0:\n",
    "            P = csr_matrix( np.ones((N,N))*(alpha / N ) )\n",
    "        else:\n",
    "            m = csr_matrix(np.isin(hops.toarray(),[hop],assume_unique=False).astype(np.int8))\n",
    "            P += csr_matrix(alpha * normalize(m, norm='l1', axis=1))\n",
    "    \n",
    "    # joint (hopportation and pref. attachment)\n",
    "    P = csr_matrix( np.multiply(P.toarray(), np.repeat(structure.sum(axis=0), N, axis=0) ) )\n",
    "    \n",
    "    # mutually exclusive (hopportation or pref. attachment)\n",
    "#     P += csr_matrix( np.repeat(structure.sum(axis=0), N, axis=0) )\n",
    "    \n",
    "    # norm\n",
    "    P = normalize(P, norm='l1', axis=1)\n",
    "    \n",
    "    l = (transitions.toarray() * np.log(P.toarray())).sum()\n",
    "    return l,alphas\n",
    "\n",
    "def hop_rank_gravitational_likelihood(structure, transitions, hops=None, alphas=None):\n",
    "    \n",
    "    if hops is None:\n",
    "        hops = hop_counts(structure) # k-hop matrix\n",
    "    \n",
    "    if alphas is None:\n",
    "        alphas, counts = hop_alphas(transitions, hops)\n",
    "        \n",
    "    P = None\n",
    "    N = structure.shape[0]\n",
    "\n",
    "    for hop, alpha in enumerate(alphas):\n",
    "                \n",
    "        if hop == 0:\n",
    "            P = csr_matrix( np.ones((N,N))*(alpha / N ) )\n",
    "        else:\n",
    "            m = csr_matrix(np.isin(hops.toarray(),[hop],assume_unique=False).astype(np.int8))\n",
    "            P += csr_matrix(alpha * normalize(m, norm='l1', axis=1))\n",
    "    \n",
    "    \n",
    "    distance = hops.toarray()\n",
    "    distance[distance==0]= distance.max()+1\n",
    "    np.fill_diagonal(distance,distance.max()+1)    \n",
    "    distance = 1/(distance)**2\n",
    "\n",
    "    # joint (hopportation and pref. attachment)\n",
    "    P = csr_matrix( np.multiply( P.toarray(), np.multiply(distance, np.repeat(structure.sum(axis=0), N, axis=0) ) ) )    \n",
    "    \n",
    "    # mutually exclusive (hopportation or pref. attachment)\n",
    "#     P += csr_matrix( np.multiply(np.repeat(structure.sum(axis=0), N, axis=0), distance ) )\n",
    "    \n",
    "    # norm\n",
    "    P = normalize(P, norm='l1', axis=1)\n",
    "    \n",
    "    l = (transitions.toarray() * np.log(P.toarray())).sum()\n",
    "    return l,alphas\n",
    "\n"
   ]
  },
  {
   "cell_type": "code",
   "execution_count": 34,
   "metadata": {},
   "outputs": [],
   "source": [
    "##############################################################################\n",
    "# MARKOV CHAIN\n",
    "##############################################################################\n",
    "\n",
    "def markov_chain_likelihood(structure, transitions):\n",
    "    P = normalize(transitions,'l1',axis=1)\n",
    "    l = (transitions.data * np.log(P.data)).sum()\n",
    "    \n",
    "    params = sparse.find(P.tocsr())[2].tolist()\n",
    "    return l,params"
   ]
  },
  {
   "cell_type": "code",
   "execution_count": 35,
   "metadata": {},
   "outputs": [],
   "source": [
    "##############################################################################\n",
    "# VIZ\n",
    "##############################################################################\n",
    "\n",
    "def plot_graph(G, title, ax=None, pos=None, small=False):\n",
    "    M = 20\n",
    "    if small:\n",
    "        ns = 50\n",
    "        fs = 5\n",
    "    else:\n",
    "        ns = 700\n",
    "        fs = 20\n",
    "        \n",
    "    if ax is None:\n",
    "        fig, ax = plt.subplots(1,1,figsize=(3,3))\n",
    "        \n",
    "    if pos is None:\n",
    "        pos = nx.spring_layout(G)  # positions for all nodes\n",
    "\n",
    "    # nodes\n",
    "    nx.draw_networkx_nodes(G, pos, node_size=ns, ax=ax)\n",
    "\n",
    "    # edges\n",
    "    edges = [(u, v, d) for (u, v, d) in G.edges(data=True)]\n",
    "    maxw = max([e[2]['weight'] if 'weight' in e[2] else 1 for e in edges])\n",
    "    nx.draw_networkx_edges(G, pos, \n",
    "                           edgelist=[(u,v) for (u, v, d) in edges], \n",
    "                           width=[d['weight']*M/maxw if 'weight' in d else 2 for (u, v, d) in edges], ax=ax)\n",
    "\n",
    "    # labels\n",
    "    nx.draw_networkx_labels(G, pos, font_size=fs, font_family='sans-serif', ax=ax)\n",
    "\n",
    "    ax.axis('off')\n",
    "    ax.set_title(title.upper())\n",
    "    return pos\n",
    "\n",
    "\n",
    "##############################################################################\n",
    "# HANDLERS\n",
    "##############################################################################\n",
    "\n",
    "def weighted_to_undirected(G):\n",
    "    tmp = nx.Graph()\n",
    "    tmp.add_edges_from(G.edges(), weight=0)\n",
    "    for u, v, d in G.edges(data=True):\n",
    "        tmp[u][v]['weight'] += d['weight']\n",
    "    return tmp\n"
   ]
  },
  {
   "cell_type": "markdown",
   "metadata": {},
   "source": [
    "<div style='text-align:center;'>\n",
    "<h1>Toy-Example</h1>\n",
    "</div>"
   ]
  },
  {
   "cell_type": "markdown",
   "metadata": {},
   "source": [
    "<h2>Datasets</h2>"
   ]
  },
  {
   "cell_type": "code",
   "execution_count": 39,
   "metadata": {},
   "outputs": [],
   "source": [
    "##############################################################################\n",
    "# DATA: AS GRAPHS\n",
    "##############################################################################\n",
    "\n",
    "### STRUCTURE\n",
    "G=nx.DiGraph()\n",
    "G.add_edge('a','b')\n",
    "G.add_edge('a','c')\n",
    "G.add_edge('b','d')\n",
    "G.add_edge('b','e')\n",
    "G.add_edge('c','f')\n",
    "G.add_edge('c','g')\n",
    "\n",
    "### TRANSITIONS (HOPRANK)\n",
    "H=nx.DiGraph()\n",
    "H.add_edge('b','d',weight=1)   # 1hop\n",
    "H.add_edge('d','e',weight=100) # 2hop\n",
    "H.add_edge('e','g',weight=15)  # 4hop\n",
    "H.add_edge('f','d',weight=15)  # 4hop\n",
    "H.add_edge('f','e',weight=20)  # 4hop\n",
    "H.add_edge('b','g',weight=5)   # 3hop\n",
    "\n",
    "# ### TRANSITIONS (1HOP)\n",
    "# H=nx.DiGraph()\n",
    "# H.add_edge('a','b',weight=10)\n",
    "# H.add_edge('a','c',weight=10)\n",
    "# H.add_edge('b','d',weight=20)\n",
    "# H.add_edge('b','e',weight=20)\n",
    "# H.add_edge('c','f',weight=30)\n",
    "# H.add_edge('c','g',weight=30)\n",
    "\n",
    "### TO UNDIRECTED\n",
    "H = weighted_to_undirected(H)\n",
    "\n",
    "### ADJACENCY MATRICES\n",
    "S = nx.adjacency_matrix(G.to_undirected(),['a','b','c','d','e','f','g'])\n",
    "T = nx.adjacency_matrix(H,['a','b','c','d','e','f','g'])"
   ]
  },
  {
   "cell_type": "markdown",
   "metadata": {},
   "source": [
    "<h2>Experiments and Results</h2>"
   ]
  },
  {
   "cell_type": "code",
   "execution_count": 40,
   "metadata": {},
   "outputs": [
    {
     "name": "stderr",
     "output_type": "stream",
     "text": [
      "/home/lespin/bioportal/bioportalvirtualenv/lib/python3.5/site-packages/networkx/drawing/nx_pylab.py:611: MatplotlibDeprecationWarning: isinstance(..., numbers.Number)\n",
      "  if cb.is_numlike(alpha):\n"
     ]
    },
    {
     "data": {
      "image/png": "[encoded data removed]",
      "text/plain": [
       "<Figure size 720x216 with 2 Axes>"
      ]
     },
     "metadata": {
      "needs_background": "light"
     },
     "output_type": "display_data"
    }
   ],
   "source": [
    "##############################################################################\n",
    "# Data Vizualization\n",
    "##############################################################################\n",
    "fig, axes = plt.subplots(1,2,figsize=(10,3))\n",
    "pos = plot_graph(G.to_undirected(),title='structure',ax=axes[0],pos=None,small=False)\n",
    "_ = plot_graph(H,title='transitions',ax=axes[1],pos=pos,small=False)"
   ]
  },
  {
   "cell_type": "code",
   "execution_count": 41,
   "metadata": {
    "scrolled": false
   },
   "outputs": [
    {
     "name": "stdout",
     "output_type": "stream",
     "text": [
      "RANDOM: \n",
      "- likelihood: -607.1239665052578\n",
      "- AIC: 1216.2479330105157\n",
      "- BIC: 1216.193843159571\n",
      "\n",
      "STRUCTURE: \n",
      "- likelihood: -4173.337666923764\n",
      "- AIC: 8348.675333847528\n",
      "- BIC: 8348.621243996584\n",
      "\n",
      "PAGERANK: \n",
      "- likelihood: -1192.6651873470041\n",
      "- AIC: 2387.3303746940082\n",
      "- BIC: 2387.2762848430634\n",
      "\n",
      "PAGERANK 0.01: \n",
      "- likelihood: -610.1680564849692\n",
      "- AIC: 1222.3361129699383\n",
      "- BIC: 1222.2820231189937\n",
      "\n",
      "MARKOV CHAIN 12: \n",
      "- likelihood: -189.29022236585237\n",
      "- AIC: 402.58044473170474\n",
      "- BIC: 401.9313665203685\n",
      "\n",
      "HOPRANK [0.00315457 0.00946372 0.6340694  0.03470032 0.31861199]: \n",
      "- likelihood: -459.9972876019826\n",
      "- AIC: 929.9945752039652\n",
      "- BIC: 929.7241259492417\n",
      "\n",
      "HOPRANK PREF. ATTACH. [0.00315457 0.00946372 0.6340694  0.03470032 0.31861199]: \n",
      "- likelihood: -562.0483968250147\n",
      "- AIC: 1134.0967936500294\n",
      "- BIC: 1133.826344395306\n",
      "\n",
      "HOPRANK GRAVITATIONAL [0.00315457 0.00946372 0.6340694  0.03470032 0.31861199]: \n",
      "- likelihood: -656.7993225501597\n",
      "- AIC: 1323.5986451003193\n",
      "- BIC: 1323.328195845596\n",
      "\n"
     ]
    }
   ],
   "source": [
    "##############################################################################\n",
    "# LOG-LIKELIHOODS\n",
    "##############################################################################\n",
    "\n",
    "columns = ['method','n-params','log-likelihood','aic','bic']\n",
    "df = pd.DataFrame(columns=columns)\n",
    "\n",
    "### RANDOM\n",
    "alpha = 0.0\n",
    "l,params = random_walk_likelihood(S,T,alpha)\n",
    "aic = AIC(l,len(params),S.shape[0])\n",
    "bic = BIC(l,len(params),S.shape[0])\n",
    "print('RANDOM: \\n- likelihood: {}\\n- AIC: {}\\n- BIC: {}\\n'.format(l,aic,bic))\n",
    "df = df.append({'method':'Random', 'n-params': len(params), 'log-likelihood':l, 'aic':aic, 'bic':bic}, ignore_index=True)\n",
    "\n",
    "### STRUCTURE\n",
    "alpha = 1.0\n",
    "l,params = random_walk_likelihood(S,T,alpha)\n",
    "aic = AIC(l,len(params),S.shape[0])\n",
    "bic = BIC(l,len(params),S.shape[0])\n",
    "print('STRUCTURE: \\n- likelihood: {}\\n- AIC: {}\\n- BIC: {}\\n'.format(l,aic,bic))\n",
    "df = df.append({'method':'Structure', 'n-params': len(params), 'log-likelihood':l, 'aic':aic, 'bic':bic}, ignore_index=True)\n",
    "\n",
    "### PAGERANK\n",
    "alpha = 0.85\n",
    "l,params = random_walk_likelihood(S,T,alpha)\n",
    "aic = AIC(l,len(params),S.shape[0])\n",
    "bic = BIC(l,len(params),S.shape[0])\n",
    "print('PAGERANK: \\n- likelihood: {}\\n- AIC: {}\\n- BIC: {}\\n'.format(l,aic,bic))\n",
    "df = df.append({'method':'PageRank {}'.format(alpha), 'n-params': len(params), 'log-likelihood':l, 'aic':aic, 'bic':bic}, ignore_index=True)\n",
    "\n",
    "### PAGERANK (DATA)\n",
    "alpha = round(np.multiply(T.toarray(),S.toarray()).sum() / T.toarray().sum(),2)\n",
    "l,params = random_walk_likelihood(S,T,alpha)\n",
    "aic = AIC(l,len(params),S.shape[0])\n",
    "bic = BIC(l,len(params),S.shape[0])\n",
    "print('PAGERANK {}: \\n- likelihood: {}\\n- AIC: {}\\n- BIC: {}\\n'.format(alpha,l,aic,bic))\n",
    "df = df.append({'method':'PageRank {}'.format(alpha), 'n-params': len(params), 'log-likelihood':l, 'aic':aic, 'bic':bic}, ignore_index=True)\n",
    "\n",
    "### MARKOV CHAIN\n",
    "l,params = markov_chain_likelihood(S,T)\n",
    "aic = AIC(l,len(params),S.shape[0])\n",
    "bic = BIC(l,len(params),S.shape[0])\n",
    "print('MARKOV CHAIN {}: \\n- likelihood: {}\\n- AIC: {}\\n- BIC: {}\\n'.format(len(params),l,aic,bic))\n",
    "df = df.append({'method':'Markov Chain', 'n-params': len(params), 'log-likelihood':l, 'aic':aic, 'bic':bic}, ignore_index=True)\n",
    "\n",
    "### HOPSURFER\n",
    "l,params = hop_rank_likelihood(S,T)\n",
    "aic = AIC(l,len(params),S.shape[0])\n",
    "bic = BIC(l,len(params),S.shape[0])\n",
    "print('HOPRANK {}: \\n- likelihood: {}\\n- AIC: {}\\n- BIC: {}\\n'.format(params,l,aic,bic))\n",
    "df = df.append({'method':'HopRank', 'n-params': len(params), 'log-likelihood':l, 'aic':aic, 'bic':bic}, ignore_index=True)\n",
    "\n",
    "### HOPSURFER PREF. ATTACHMENT\n",
    "l,params = hop_rank_preferential_attachment_likelihood(S,T)\n",
    "aic = AIC(l,len(params),S.shape[0])\n",
    "bic = BIC(l,len(params),S.shape[0])\n",
    "print('HOPRANK PREF. ATTACH. {}: \\n- likelihood: {}\\n- AIC: {}\\n- BIC: {}\\n'.format(params,l,aic,bic))\n",
    "df = df.append({'method':'HopRank Pref. Attach.', 'n-params': len(params), 'log-likelihood':l, 'aic':aic, 'bic':bic}, ignore_index=True)\n",
    "\n",
    "### HOPSURFER GRAVITATIONAL\n",
    "l,params = hop_rank_gravitational_likelihood(S,T)\n",
    "aic = AIC(l,len(params),S.shape[0])\n",
    "bic = BIC(l,len(params),S.shape[0])\n",
    "print('HOPRANK GRAVITATIONAL {}: \\n- likelihood: {}\\n- AIC: {}\\n- BIC: {}\\n'.format(params,l,aic,bic))\n",
    "df = df.append({'method':'HopRank Grav.', 'n-params': len(params), 'log-likelihood':l, 'aic':aic, 'bic':bic}, ignore_index=True)\n"
   ]
  },
  {
   "cell_type": "code",
   "execution_count": 42,
   "metadata": {},
   "outputs": [
    {
     "data": {
      "image/png": "[encoded data removed]",
      "text/plain": [
       "<Figure size 2160x288 with 4 Axes>"
      ]
     },
     "metadata": {
      "needs_background": "light"
     },
     "output_type": "display_data"
    }
   ],
   "source": [
    "fig,axes = plt.subplots(1,4,figsize=(30,4))\n",
    "_ = sns.barplot(data=df, x='method',y='log-likelihood',ax=axes[0])\n",
    "_ = sns.barplot(data=df, x='method',y='n-params',ax=axes[1])\n",
    "_ = sns.barplot(data=df, x='method',y='aic',ax=axes[2])\n",
    "_ = sns.barplot(data=df, x='method',y='bic',ax=axes[3])\n",
    "\n",
    "axes[0].set_title('Log-Likelihood')\n",
    "axes[1].set_title('#Params')\n",
    "axes[2].set_title('AIC')\n",
    "axes[3].set_title('BIC')\n",
    "\n",
    "for ax in axes.flatten():\n",
    "    ax.set_xticklabels(ax.get_xticklabels(), rotation=90)\n",
    "    ax.grid()"
   ]
  },
  {
   "cell_type": "markdown",
   "metadata": {},
   "source": [
    "<div style='text-align:center;'>\n",
    "<h1>BioPortal</h1>\n",
    "</div>"
   ]
  },
  {
   "cell_type": "markdown",
   "metadata": {},
   "source": [
    "<h2>Datasets</h2>"
   ]
  },
  {
   "cell_type": "code",
   "execution_count": null,
   "metadata": {},
   "outputs": [],
   "source": [
    "ONTO = 'ICPC'\n",
    "Y = '2015'\n",
    "TYPE = 'ALL'\n",
    "G = nx.read_adjlist('/home/lespin/bioportal/results/bioportal/ontologies/graph/{}_{}.adjlist'.format(ONTO,Y), create_using=nx.DiGraph())\n",
    "H = nx.read_weighted_edgelist('/home/lespin/bioportal/results/bioportal/clickstreams/graph/{}/{}_{}.adjlist'.format(TYPE,ONTO,Y), create_using=nx.DiGraph())\n",
    "H = weighted_to_undirected(H)\n",
    "\n",
    "allnodes = sorted(list(G.nodes()))\n",
    "tmp = list(set(list(max(nx.connected_components(G.to_undirected()), key=len))).intersection(set(list(H.nodes()))))\n",
    "nodes=[]\n",
    "sg = G.subgraph(tmp)\n",
    "for n in tmp:\n",
    "    if sg.degree(n) > 0:\n",
    "        nodes.append(n)\n",
    "sg = G.subgraph(nodes)\n",
    "\n",
    "S = nx.adjacency_matrix(G.to_undirected(),nodes)\n",
    "T = nx.adjacency_matrix(H,nodes)\n",
    "hops = load_hop_counts('/home/lespin/bioportal/results/bioportal/ontologies/hops',ONTO,Y)\n",
    "\n",
    "mask = np.isin(allnodes,nodes)\n",
    "hops = hops[mask,:]\n",
    "hops = hops[:,mask]\n",
    "\n",
    "S.shape, T.shape, hops.shape"
   ]
  },
  {
   "cell_type": "markdown",
   "metadata": {},
   "source": [
    "<h2>Experiments and Results</h2>"
   ]
  },
  {
   "cell_type": "code",
   "execution_count": null,
   "metadata": {},
   "outputs": [],
   "source": [
    "##############################################################################\n",
    "# Data Vizualization\n",
    "##############################################################################\n",
    "fig, axes = plt.subplots(1,2,figsize=(20,10))\n",
    "# pos = plot_graph(G,title='original',ax=axes[0],pos=None,small=True)\n",
    "pos = plot_graph(sg,title='structure',ax=axes[0],pos=None,small=True)\n",
    "_ = plot_graph(H.subgraph([n for n in nodes if n in nodes]),title='transitions',ax=axes[1],pos=pos,small=True)"
   ]
  },
  {
   "cell_type": "code",
   "execution_count": null,
   "metadata": {
    "scrolled": false
   },
   "outputs": [],
   "source": [
    "##############################################################################\n",
    "# LOG-LIKELIHOODS\n",
    "##############################################################################\n",
    "\n",
    "columns = ['method','n-params','likelihood','aic']\n",
    "df = pd.DataFrame(columns=columns)\n",
    "\n",
    "### RANDOM\n",
    "alpha = 0.0\n",
    "l,params = random_walk_likelihood(S,T,alpha)\n",
    "aic = AIC(l,len(params),S.shape[0])\n",
    "bic = BIC(l,len(params),S.shape[0])\n",
    "print('RANDOM: \\n- likelihood: {}\\n- AIC: {}\\n- BIC: {}\\n'.format(l,aic,bic))\n",
    "df = df.append({'method':'Random', 'n-params': len(params), 'log-likelihood':l, 'aic':aic, 'bic':bic}, ignore_index=True)\n",
    "\n",
    "### STRUCTURE\n",
    "alpha = 1.0\n",
    "l,params = random_walk_likelihood(S,T,alpha)\n",
    "aic = AIC(l,len(params),S.shape[0])\n",
    "bic = BIC(l,len(params),S.shape[0])\n",
    "print('STRUCTURE: \\n- likelihood: {}\\n- AIC: {}\\n- BIC: {}\\n'.format(l,aic,bic))\n",
    "df = df.append({'method':'Structure', 'n-params': len(params), 'log-likelihood':l, 'aic':aic, 'bic':bic}, ignore_index=True)\n",
    "\n",
    "### PAGERANK\n",
    "alpha = 0.85\n",
    "l,params = random_walk_likelihood(S,T,alpha)\n",
    "aic = AIC(l,len(params),S.shape[0])\n",
    "bic = BIC(l,len(params),S.shape[0])\n",
    "print('PAGERANK: \\n- likelihood: {}\\n- AIC: {}\\n- BIC: {}\\n'.format(l,aic,bic))\n",
    "df = df.append({'method':'PageRank', 'n-params': len(params), 'log-likelihood':l, 'aic':aic, 'bic':bic}, ignore_index=True)\n",
    "\n",
    "### MARKOV CHAIN\n",
    "l,params = markov_chain_likelihood(S,T)\n",
    "aic = AIC(l,len(params),S.shape[0])\n",
    "bic = BIC(l,len(params),S.shape[0])\n",
    "print('MARKOV CHAIN {}: \\n- likelihood: {}\\n- AIC: {}\\n- BIC: {}\\n'.format(len(params),l,aic,bic))\n",
    "df = df.append({'method':'Markov Chain', 'n-params': len(params), 'log-likelihood':l, 'aic':aic, 'bic':bic}, ignore_index=True)\n",
    "\n",
    "### HOPSURFER 1\n",
    "l,params = hop_surfer_likelihood_1(S,T,hops)\n",
    "aic = AIC(l,len(params),S.shape[0])\n",
    "bic = BIC(l,len(params),S.shape[0])\n",
    "print('HOPSURFER 1 {}: \\n- likelihood: {}\\n- AIC: {}\\n- BIC: {}\\n'.format(params,l,aic,bic))\n",
    "df = df.append({'method':'HopSurfer 1', 'n-params': len(params), 'log-likelihood':l, 'aic':aic, 'bic':bic}, ignore_index=True)\n",
    "\n",
    "### HOPSURFER 2\n",
    "l,params = hop_surfer_likelihood_2(S,T,hops)\n",
    "aic = AIC(l,len(params),S.shape[0])\n",
    "bic = BIC(l,len(params),S.shape[0])\n",
    "print('HOPSURFER 2 {}: \\n- likelihood: {}\\n- AIC: {}\\n- BIC: {}\\n'.format(params,l,aic,bic))\n",
    "df = df.append({'method':'HopSurfer 2', 'n-params': len(params), 'log-likelihood':l, 'aic':aic, 'bic':bic}, ignore_index=True)\n",
    "\n",
    "### HOPSURFER 3\n",
    "l,params = hop_surfer_likelihood_3(S,T,hops)\n",
    "aic = AIC(l,len(params),S.shape[0])\n",
    "bic = BIC(l,len(params),S.shape[0])\n",
    "print('HOPSURFER 3 {}: \\n- likelihood: {}\\n- AIC: {}\\n- BIC: {}\\n'.format(params,l,aic,bic))\n",
    "df = df.append({'method':'HopSurfer 3', 'n-params': len(params), 'log-likelihood':l, 'aic':aic, 'bic':bic}, ignore_index=True)\n",
    "\n",
    "### HOPSURFER 4\n",
    "l,params = hop_surfer_likelihood_4(S,T,hops)\n",
    "aic = AIC(l,len(params),S.shape[0])\n",
    "bic = BIC(l,len(params),S.shape[0])\n",
    "print('HOPSURFER 4 {}: \\n- likelihood: {}\\n- AIC: {}\\n- BIC: {}\\n'.format(params,l,aic,bic))\n",
    "df = df.append({'method':'HopSurfer 4', 'n-params': len(params), 'log-likelihood':l, 'aic':aic, 'bic':bic}, ignore_index=True)\n",
    "\n",
    "### HOPSURFER 5\n",
    "l,params = hop_surfer_likelihood_5(S,T,hops)\n",
    "aic = AIC(l,len(params),S.shape[0])\n",
    "bic = BIC(l,len(params),S.shape[0])\n",
    "print('HOPSURFER 5 {}: \\n- likelihood: {}\\n- AIC: {}\\n- BIC: {}\\n'.format(params,l,aic,bic))\n",
    "df = df.append({'method':'HopSurfer 5', 'n-params': len(params), 'log-likelihood':l, 'aic':aic, 'bic':bic}, ignore_index=True)\n",
    "\n",
    "### HOPSURFER 6\n",
    "l,params = hop_surfer_likelihood_6(S,T,hops)\n",
    "aic = AIC(l,len(params),S.shape[0])\n",
    "bic = BIC(l,len(params),S.shape[0])\n",
    "print('HOPSURFER 6 {}: \\n- likelihood: {}\\n- AIC: {}\\n- BIC: {}\\n'.format(params,l,aic,bic))\n",
    "df = df.append({'method':'HopSurfer 6', 'n-params': len(params), 'log-likelihood':l, 'aic':aic, 'bic':bic}, ignore_index=True)"
   ]
  },
  {
   "cell_type": "code",
   "execution_count": null,
   "metadata": {
    "scrolled": true
   },
   "outputs": [],
   "source": [
    "fig,axes = plt.subplots(1,4,figsize=(30,4))\n",
    "_ = sns.barplot(data=df, x='method',y='log-likelihood',ax=axes[0])\n",
    "_ = sns.barplot(data=df, x='method',y='n-params',ax=axes[1])\n",
    "_ = sns.barplot(data=df, x='method',y='aic',ax=axes[2])\n",
    "_ = sns.barplot(data=df, x='method',y='bic',ax=axes[3])\n",
    "\n",
    "axes[0].set_title('Log-Likelihood')\n",
    "axes[1].set_title('#Params')\n",
    "axes[2].set_title('AIC')\n",
    "axes[3].set_title('BIC')\n",
    "\n",
    "for ax in axes.flatten():\n",
    "    ax.set_xticklabels(ax.get_xticklabels(), rotation=90)\n",
    "    ax.grid()"
   ]
  },
  {
   "cell_type": "code",
   "execution_count": null,
   "metadata": {},
   "outputs": [],
   "source": [
    "m=csr_matrix(np.array([[1,2,3],[4,5,6],[7,8,9]]))\n",
    "m += (m*10)\n",
    "m.toarray()"
   ]
  },
  {
   "cell_type": "code",
   "execution_count": null,
   "metadata": {},
   "outputs": [],
   "source": [
    "m.toarray()"
   ]
  },
  {
   "cell_type": "code",
   "execution_count": null,
   "metadata": {},
   "outputs": [],
   "source": [
    "m += m\n",
    "m.toarray()"
   ]
  },
  {
   "cell_type": "code",
   "execution_count": null,
   "metadata": {},
   "outputs": [],
   "source": [
    "A=np.array([[1,2],[3,4]])\n",
    "A.dot(A).dot(A).dot(A).dot(A).dot(A).dot(A).dot(A).dot(A).dot(A).dot(A).dot(A).dot(A)"
   ]
  },
  {
   "cell_type": "code",
   "execution_count": 27,
   "metadata": {},
   "outputs": [
    {
     "data": {
      "text/plain": [
       "matrix([[3, 6, 9],\n",
       "        [3, 6, 9],\n",
       "        [3, 6, 9]], dtype=int64)"
      ]
     },
     "execution_count": 27,
     "metadata": {},
     "output_type": "execute_result"
    }
   ],
   "source": [
    "N = 3\n",
    "structure = csr_matrix(np.array([[1,2,3],[1,2,3],[1,2,3]]))\n",
    "np.repeat(structure.sum(axis=0), N, axis=0)"
   ]
  },
  {
   "cell_type": "code",
   "execution_count": 29,
   "metadata": {},
   "outputs": [
    {
     "data": {
      "text/plain": [
       "array([[0.16666667, 0.33333333, 0.5       ],\n",
       "       [0.16666667, 0.33333333, 0.5       ],\n",
       "       [0.16666667, 0.33333333, 0.5       ]])"
      ]
     },
     "execution_count": 29,
     "metadata": {},
     "output_type": "execute_result"
    }
   ],
   "source": [
    "normalize(structure, norm='l1', axis=1).toarray()"
   ]
  },
  {
   "cell_type": "code",
   "execution_count": null,
   "metadata": {},
   "outputs": [],
   "source": []
  }
 ],
 "metadata": {
  "kernelspec": {
   "display_name": "Python 3",
   "language": "python",
   "name": "python3"
  },
  "language_info": {
   "codemirror_mode": {
    "name": "ipython",
    "version": 3
   },
   "file_extension": ".py",
   "mimetype": "text/x-python",
   "name": "python",
   "nbconvert_exporter": "python",
   "pygments_lexer": "ipython3",
   "version": "3.5.2"
  }
 },
 "nbformat": 4,
 "nbformat_minor": 1
}
