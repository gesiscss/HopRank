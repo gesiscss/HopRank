{
 "cells": [
  {
   "cell_type": "code",
   "execution_count": null,
   "metadata": {},
   "outputs": [],
   "source": [
    "import sys\n",
    "# !{sys.executable} -m pip install tldextract"
   ]
  },
  {
   "cell_type": "markdown",
   "metadata": {},
   "source": [
    "<div style='text-align:center;'>\n",
    "<h1>HopRank</h1>\n",
    "<h2>Empirical Analysis</h2>\n",
    "</div>"
   ]
  },
  {
   "cell_type": "code",
   "execution_count": 1,
   "metadata": {},
   "outputs": [],
   "source": [
    "__author__ = \"Lisette Espin-Noboa\"\n",
    "__copyright__ = \"Copyright 2018, HopRank\"\n",
    "__credits__ = [\"Florian Lemmerich\", \"Markus Strohmaier\", \"Simon Walk\", \"Mark Musen\"]\n",
    "__license__ = \"GPL\"\n",
    "__version__ = \"1.0.3\"\n",
    "__maintainer__ = \"Lisette Espin-Noboa\"\n",
    "__email__ = \"Lisette.Espin@gesis.org\"\n",
    "__status__ = \"Developing\"\n",
    "\n",
    "########################################################################################\n",
    "# Warnings\n",
    "########################################################################################\n",
    "import warnings\n",
    "warnings.filterwarnings(\"ignore\", message=\"numpy.dtype size changed\")\n",
    "warnings.filterwarnings(\"ignore\", message=\"numpy.ufunc size changed\")"
   ]
  },
  {
   "cell_type": "markdown",
   "metadata": {},
   "source": [
    "<h2>Dependencies</h2>"
   ]
  },
  {
   "cell_type": "code",
   "execution_count": 2,
   "metadata": {},
   "outputs": [],
   "source": [
    "########################################################################################\n",
    "# System\n",
    "########################################################################################\n",
    "import os\n",
    "import importlib\n",
    "import numpy as np\n",
    "import pandas as pd\n",
    "import seaborn as sns\n",
    "import networkx as nx\n",
    "from collections import Counter\n",
    "from joblib import Parallel, delayed\n",
    "import matplotlib as mpl\n",
    "import matplotlib.pyplot as plt \n",
    "from collections import defaultdict\n",
    "\n",
    "########################################################################################\n",
    "# Local Dependencies\n",
    "########################################################################################\n",
    "%reload_ext autoreload\n",
    "%autoreload 2\n",
    "from org.gesis.libs.bioportal.ontology import Ontology\n",
    "from org.gesis.libs.bioportal.transition import Transition\n",
    "from org.gesis.libs.bioportal.clickstream import NAVITYPES\n",
    "from org.gesis.libs.bioportal.clickstream import load_clickstream\n",
    "from org.gesis.libs.bioportal.clickstream import preprocess_clickstream\n",
    "from org.gesis.libs.bioportal.clickstream import preprocess_sessions\n",
    "from org.gesis.libs.bioportal.clickstream import clean_clickstream\n",
    "from org.gesis.libs.bioportal.submission import get_submissions\n",
    "from org.gesis.libs.utils import log\n",
    "from org.gesis.libs.utils import weighted_to_undirected\n",
    "from org.gesis.libs.utils import to_symmetric\n",
    "\n",
    "########################################################################################\n",
    "# Plot's style\n",
    "########################################################################################\n",
    "sns.set_context(context=\"paper\", font_scale=1.5)\n",
    "sns.set_style(\"whitegrid\")"
   ]
  },
  {
   "cell_type": "markdown",
   "metadata": {},
   "source": [
    "<h2>Constants</h2>"
   ]
  },
  {
   "cell_type": "code",
   "execution_count": 3,
   "metadata": {},
   "outputs": [],
   "source": [
    "SM = 'submission'\n",
    "SUBMISSIONS_FN = '/bigdata/lespin/datasets/bioportal/submissions.json'\n",
    "\n",
    "ON = 'ontology'\n",
    "ONTOLOGY_ROOT = '/bigdata/lespin/datasets/bioportal/ontologies'\n",
    "ONTOLOGY_GRAPH_OUTPUT = '/bigdata/lespin/bioportal/ontologies/graph'\n",
    "ONTOLOGY_ADJACENCY_OUTPUT = '/bigdata/lespin/bioportal/ontologies/matrix'\n",
    "ONTOLOGY_NODES_OUTPUT = '/bigdata/lespin/bioportal/ontologies/nodes'\n",
    "ONTOLOGY_HOPS_OUTPUT = '/bigdata/lespin/bioportal/ontologies/hops'\n",
    "\n",
    "CS = 'clickstream'\n",
    "CS_FN = 'BP_webpage_requests_<YEAR><POSTFIX>.csv.bz2'\n",
    "CLICKSTREAM_ROOT = '/bigdata/lespin/datasets/bioportal/clickstream/'\n",
    "CLICKSTREAM_DF = '/bigdata/lespin/bioportal/clickstreams'\n",
    "\n",
    "TR = 'transitions'\n",
    "TRANS_GRAPH_OUTPUT = '/bigdata/lespin/bioportal/transitions/graph'\n",
    "TRANS_ADJACENCY_OUTPUT = '/bigdata/lespin/bioportal/transitions/matrix'\n",
    "TRANS_NODES_OUTPUT = '/bigdata/lespin/bioportal/transitions/nodes'\n",
    "LCC_TRANS_GRAPH_OUTPUT = '/bigdata/lespin/bioportal/transitions_in_lcc/graph'\n",
    "LCC_TRANS_ADJACENCY_OUTPUT = '/bigdata/lespin/bioportal/transitions_in_lcc/matrix'\n",
    "LCC_TRANS_NODES_OUTPUT = '/bigdata/lespin/bioportal/transitions_in_lcc/nodes'\n",
    "\n",
    "SU = 'summary'\n",
    "LOG_OUTPUT = '/bigdata/lespin/bioportal/logs'\n",
    "PLOTS_OUTPUT = '/bigdata/lespin/bioportal/plots'\n",
    "SUMMARY_OUTPUT = '/bigdata/lespin/bioportal/summary'\n",
    "YEAR = '2015'\n",
    "\n",
    "LAG_BREAK_IN_MINUTES = 60\n",
    "MIN_SESSION_LENGTH = 2\n",
    "MIN_REQ = 1000\n",
    "MIN_TRANSITIONS = 1000\n",
    "MAXKHOPS = 32\n",
    "\n",
    "LCC = True"
   ]
  },
  {
   "cell_type": "markdown",
   "metadata": {},
   "source": [
    "<div style='text-align:center;'>\n",
    "<h1>Functions</h1>\n",
    "</div>"
   ]
  },
  {
   "cell_type": "code",
   "execution_count": 40,
   "metadata": {},
   "outputs": [],
   "source": [
    "def plot_by(data, x, y, hue, hue_order, height, width, legend_top, legend_ncol, legend_box, palette, xlog, ylog, grid, fn):\n",
    "\n",
    "    sns.set_style(\"ticks\", {\"xtick.major.size\": 8, \"ytick.major.size\": 8, \n",
    "                            'xtick.color': 'black', 'ytick.color': 'black',\n",
    "                           'axes.edgecolor': 'black'})\n",
    "    \n",
    "    fg = sns.catplot(data=data,\n",
    "                 kind='point',\n",
    "                 x=x,\n",
    "                 y=y,\n",
    "                 hue=hue,\n",
    "                 hue_order=hue_order,\n",
    "                 height=height,\n",
    "                 aspect=width/height,\n",
    "                 legend=not legend_top,\n",
    "                 legend_out=not legend_top,\n",
    "                 palette=sns.color_palette(palette, data[hue].nunique()),\n",
    "                )\n",
    "    \n",
    "    if xlog: fg.ax.set_xscale('log')\n",
    "    if ylog: fg.ax.set_yscale('log')\n",
    "        \n",
    "    if legend_top:\n",
    "        _ = fg.ax.legend(frameon=False, \n",
    "                         fancybox=False,\n",
    "                         bbox_to_anchor=legend_box, \n",
    "                         loc=\"lower left\", \n",
    "                         ncol=legend_ncol, \n",
    "                         mode=\"expand\", \n",
    "                         borderaxespad=0)\n",
    "    \n",
    "#     plt.xticks(list(plt.xticks()[0]))\n",
    "    \n",
    "    fg.ax.grid(grid)\n",
    "    plt.subplots_adjust(hspace=0.1, wspace=0.1)\n",
    "    plt.tight_layout()\n",
    "    if fn is not None:\n",
    "        plt.savefig(fn, bbox_inches='tight')"
   ]
  },
  {
   "cell_type": "markdown",
   "metadata": {},
   "source": [
    "<div style='text-align:center;'>\n",
    "<h1>Overlaps</h1>\n",
    "</div>"
   ]
  },
  {
   "cell_type": "code",
   "execution_count": 5,
   "metadata": {
    "scrolled": true
   },
   "outputs": [
    {
     "name": "stdout",
     "output_type": "stream",
     "text": [
      "loading submissions...\n",
      "2019-02-25 10:47:18\t/bigdata/lespin/datasets/bioportal/submissions.json loaded!\n",
      "2019-02-25 10:47:18\t- 642 ontologies\n",
      "2019-02-25 10:47:18\t- 13 years\n",
      "loading ontologies...\n",
      "generating k-hop overlaps...\n",
      "loading summary overlaps...\n",
      "CPT already loaded.\n",
      "MEDDRA already loaded.\n",
      "NDFRT already loaded.\n",
      "LOINC already loaded.\n",
      "ICD9CM already loaded.\n",
      "WHO-ART already loaded.\n",
      "MESH already loaded.\n",
      "ICD10 already loaded.\n",
      "CHMO already loaded.\n",
      "HL7 already loaded.\n",
      "OMIM already loaded.\n"
     ]
    }
   ],
   "source": [
    "print('loading submissions...')\n",
    "submissions_dict = get_submissions(SUBMISSIONS_FN)\n",
    "\n",
    "print('loading ontologies...')\n",
    "fn = os.path.join(SUMMARY_OUTPUT,'lcc_summary_ontologies_transitions_{}.{}'.format(YEAR,'csv'))\n",
    "df_onto = pd.read_csv(fn, index_col=False)\n",
    "tmp = df_onto.loc[df_onto[\"T'\"] >= MIN_TRANSITIONS].copy()\n",
    "ontology_order = df_onto.ontology.unique()\n",
    "del(df_onto)\n",
    "\n",
    "print('generating k-hop overlaps...')\n",
    "columns = ['ontology','diameter','navitype','khop','coverage','transitions','%coverage','%transitions','dyads_in_khop','total_transitions_ontology_navitype']\n",
    "df_overlap = pd.DataFrame(columns=columns)\n",
    "\n",
    "fn = os.path.join(SUMMARY_OUTPUT,'lcc_summary_overlaps_{}.{}'.format(YEAR,'csv'))\n",
    "if os.path.exists(fn):\n",
    "    print('loading summary overlaps...')\n",
    "    df_overlap = pd.read_csv(fn, index_col=None)\n",
    "    \n",
    "for index,row in tmp.iterrows():\n",
    "    onto_name = row['ontology']\n",
    "     \n",
    "    if onto_name in ['SNOMEDCT']:\n",
    "        continue\n",
    "        \n",
    "    if df_overlap.query(\"ontology == @onto_name\").size > 0:\n",
    "        print(\"{} already loaded.\".format(onto_name))\n",
    "        continue\n",
    "        \n",
    "    submission = submissions_dict[onto_name][YEAR]\n",
    "    onto = Ontology(name=onto_name, year=YEAR, submission_id=submission['submissionId'], root_folder=ONTOLOGY_ROOT)\n",
    "    \n",
    "    for khop in np.arange(1,MAXKHOPS+1,1):    \n",
    "        \n",
    "        if khop > row[\"d'\"]:\n",
    "            continue\n",
    "          \n",
    "        try:\n",
    "            M = onto.get_khop_matrix(path=ONTOLOGY_HOPS_OUTPUT, k=khop, lcc=LCC)\n",
    "        except:\n",
    "            continue\n",
    "        \n",
    "        try:\n",
    "            for navitype in [None]+NAVITYPES:            \n",
    "                # all transitions\n",
    "                cs = Transition(onto_name, navitype, YEAR)            \n",
    "                cs.load_adjacency(path=LCC_TRANS_ADJACENCY_OUTPUT)        \n",
    "                \n",
    "                if cs.T is not None:\n",
    "                    total_dydas_in_khop = M.sum()\n",
    "                    total_transitions = cs.get_undirected_adjacency().sum()\n",
    "                    coverage_in_khop = M.multiply(cs.get_undirected_adjacency() > 0)\n",
    "                    transitions_in_khop = M.multiply(cs.get_undirected_adjacency())\n",
    "                    \n",
    "                    df_overlap = df_overlap.append({'ontology':onto_name,\n",
    "                                                    'diameter':row[\"d'\"],\n",
    "                                                    'navitype':'ALL' if navitype is None else navitype,\n",
    "                                                    'khop':khop,\n",
    "                                                    'coverage':coverage_in_khop.sum() / 2.,\n",
    "                                                    'transitions':transitions_in_khop.sum() / 2.,\n",
    "                                                    '%coverage':100*coverage_in_khop.sum() / total_dydas_in_khop,\n",
    "                                                    '%transitions':100*transitions_in_khop.sum() / total_transitions,\n",
    "                                                    'dyads_in_khop':total_dydas_in_khop,\n",
    "                                                    'total_transitions_ontology_navitype':total_transitions,\n",
    "                                                   }\n",
    "                                                   , ignore_index=True)\n",
    "                del(cs)\n",
    "                del(coverage_in_khop)\n",
    "                del(transitions_in_khop)\n",
    "            del(M)\n",
    "        except Exception as ex:\n",
    "            print(ex)\n",
    "            df_overlap = df_overlap.append({'ontology':onto_name,\n",
    "                                            'diameter':row[\"d'\"],\n",
    "                                            'navitype':'ALL' if navitype is None else navitype,\n",
    "                                            'khop':khop,\n",
    "                                            'coverage':0,\n",
    "                                            'transitions':0,\n",
    "                                            '%coverage':0.0,\n",
    "                                            '%transitions':0.0,\n",
    "                                            'dyads_in_khop':0,\n",
    "                                            'total_transitions_ontology_navitype':0,\n",
    "                                           }\n",
    "                                           , ignore_index=True)\n",
    "\n",
    "df_overlap.to_csv(fn, index=False)\n"
   ]
  },
  {
   "cell_type": "code",
   "execution_count": 6,
   "metadata": {},
   "outputs": [
    {
     "data": {
      "text/html": [
       "<div>\n",
       "<style scoped>\n",
       "    .dataframe tbody tr th:only-of-type {\n",
       "        vertical-align: middle;\n",
       "    }\n",
       "\n",
       "    .dataframe tbody tr th {\n",
       "        vertical-align: top;\n",
       "    }\n",
       "\n",
       "    .dataframe thead th {\n",
       "        text-align: right;\n",
       "    }\n",
       "</style>\n",
       "<table border=\"1\" class=\"dataframe\">\n",
       "  <thead>\n",
       "    <tr style=\"text-align: right;\">\n",
       "      <th></th>\n",
       "      <th>ontology</th>\n",
       "      <th>diameter</th>\n",
       "      <th>navitype</th>\n",
       "      <th>khop</th>\n",
       "      <th>coverage</th>\n",
       "      <th>transitions</th>\n",
       "      <th>%coverage</th>\n",
       "      <th>%transitions</th>\n",
       "      <th>dyads_in_khop</th>\n",
       "      <th>total_transitions_ontology_navitype</th>\n",
       "    </tr>\n",
       "  </thead>\n",
       "  <tbody>\n",
       "    <tr>\n",
       "      <th>0</th>\n",
       "      <td>CPT</td>\n",
       "      <td>15</td>\n",
       "      <td>ALL</td>\n",
       "      <td>1</td>\n",
       "      <td>3565.0</td>\n",
       "      <td>7763.0</td>\n",
       "      <td>27.192982</td>\n",
       "      <td>17.385949</td>\n",
       "      <td>26220</td>\n",
       "      <td>89302.0</td>\n",
       "    </tr>\n",
       "    <tr>\n",
       "      <th>1</th>\n",
       "      <td>CPT</td>\n",
       "      <td>15</td>\n",
       "      <td>DC</td>\n",
       "      <td>1</td>\n",
       "      <td>1108.0</td>\n",
       "      <td>1383.0</td>\n",
       "      <td>8.451564</td>\n",
       "      <td>26.307780</td>\n",
       "      <td>26220</td>\n",
       "      <td>10514.0</td>\n",
       "    </tr>\n",
       "    <tr>\n",
       "      <th>2</th>\n",
       "      <td>CPT</td>\n",
       "      <td>15</td>\n",
       "      <td>DE</td>\n",
       "      <td>1</td>\n",
       "      <td>1927.0</td>\n",
       "      <td>2736.0</td>\n",
       "      <td>14.698703</td>\n",
       "      <td>26.214429</td>\n",
       "      <td>26220</td>\n",
       "      <td>20874.0</td>\n",
       "    </tr>\n",
       "    <tr>\n",
       "      <th>3</th>\n",
       "      <td>CPT</td>\n",
       "      <td>15</td>\n",
       "      <td>EX</td>\n",
       "      <td>1</td>\n",
       "      <td>1267.0</td>\n",
       "      <td>3374.0</td>\n",
       "      <td>9.664378</td>\n",
       "      <td>28.187135</td>\n",
       "      <td>26220</td>\n",
       "      <td>23940.0</td>\n",
       "    </tr>\n",
       "    <tr>\n",
       "      <th>4</th>\n",
       "      <td>CPT</td>\n",
       "      <td>15</td>\n",
       "      <td>DU</td>\n",
       "      <td>1</td>\n",
       "      <td>71.0</td>\n",
       "      <td>77.0</td>\n",
       "      <td>0.541571</td>\n",
       "      <td>1.952333</td>\n",
       "      <td>26220</td>\n",
       "      <td>7888.0</td>\n",
       "    </tr>\n",
       "  </tbody>\n",
       "</table>\n",
       "</div>"
      ],
      "text/plain": [
       "  ontology  diameter navitype  khop  coverage  transitions  %coverage  \\\n",
       "0      CPT        15      ALL     1    3565.0       7763.0  27.192982   \n",
       "1      CPT        15       DC     1    1108.0       1383.0   8.451564   \n",
       "2      CPT        15       DE     1    1927.0       2736.0  14.698703   \n",
       "3      CPT        15       EX     1    1267.0       3374.0   9.664378   \n",
       "4      CPT        15       DU     1      71.0         77.0   0.541571   \n",
       "\n",
       "   %transitions  dyads_in_khop  total_transitions_ontology_navitype  \n",
       "0     17.385949          26220                              89302.0  \n",
       "1     26.307780          26220                              10514.0  \n",
       "2     26.214429          26220                              20874.0  \n",
       "3     28.187135          26220                              23940.0  \n",
       "4      1.952333          26220                               7888.0  "
      ]
     },
     "execution_count": 6,
     "metadata": {},
     "output_type": "execute_result"
    }
   ],
   "source": [
    "df_overlap.head()"
   ]
  },
  {
   "cell_type": "code",
   "execution_count": null,
   "metadata": {
    "scrolled": true
   },
   "outputs": [],
   "source": [
    "pd.options.display.max_rows = 999\n",
    "#print(df_overlap.query(\"navitype!='ALL'\").groupby(['navitype','khop'])['%transitions'].mean())\n",
    "# df_overlap.groupby(['khop'])['%transitions'].mean().reset_index().sort_values(['%transitions'],ascending=False).round(2)\n",
    "df_overlap.groupby(['navitype','khop'])['%transitions'].mean().reset_index().sort_values(['navitype','%transitions','khop'],ascending=False).round(2)\n",
    "# df_overlap.ontology.nunique()\n",
    "# df_overlap.query('transitions>0').groupby('navitype')['khop'].max().reset_index().khop.mean()\n",
    "    \n",
    "    \n",
    "    "
   ]
  },
  {
   "cell_type": "markdown",
   "metadata": {},
   "source": [
    "<h2>k-hop Overlap</h2>"
   ]
  },
  {
   "cell_type": "code",
   "execution_count": null,
   "metadata": {},
   "outputs": [],
   "source": [
    "### SORTED BY # TRANSITIONS in LCC\n",
    "\n",
    "fn = os.path.join(SUMMARY_OUTPUT,'lcc_summary_ontologies_transitions_{}.{}'.format(YEAR,'csv'))\n",
    "df_onto = pd.read_csv(fn, index_col=False)\n",
    "tmp = df_onto.loc[df_onto[\"T'\"] >= MIN_TRANSITIONS].copy()\n",
    "ontology_order = df_onto.sort_values(\"T'\", ascending=False).ontology.unique()\n",
    "\n",
    "intersect = np.intersect1d(ontology_order, df_overlap.ontology.unique(), assume_unique=True, return_indices=True)\n",
    "intersect = np.sort(intersect[1])\n",
    "ontology_order = ontology_order[intersect]\n",
    "\n",
    "tmp = df_overlap.query(\"navitype=='ALL' & coverage > 0\").copy()\n",
    "tmp.sort_values('transitions',ascending=False,inplace=True)\n",
    "fn = os.path.join(PLOTS_OUTPUT,'lcc_summary_coverage_per_khop_sorted_by_transitions.pdf')\n",
    "plot_by(tmp, 'khop', '%coverage', 'ontology', ontology_order, 3, 6, True, 4, (-0.09, 1.02, 1.1, 0.2), \"RdBu_r\", False, True, False, fn)\n"
   ]
  },
  {
   "cell_type": "code",
   "execution_count": 39,
   "metadata": {},
   "outputs": [
    {
     "data": {
      "image/png": "[encoded data removed]",
      "text/plain": [
       "<Figure size 432x201.6 with 1 Axes>"
      ]
     },
     "metadata": {},
     "output_type": "display_data"
    }
   ],
   "source": [
    "### SORTED BY DIAMETER in LCC\n",
    "\n",
    "fn = os.path.join(SUMMARY_OUTPUT,'lcc_summary_ontologies_transitions_{}.{}'.format(YEAR,'csv'))\n",
    "df_onto = pd.read_csv(fn, index_col=False)\n",
    "tmp = df_onto.loc[df_onto[\"T'\"] >= MIN_TRANSITIONS].copy()\n",
    "ontology_order = df_onto.sort_values(\"d'\", ascending=False).ontology.unique()\n",
    "\n",
    "intersect = np.intersect1d(ontology_order, df_overlap.ontology.unique(), assume_unique=True, return_indices=True)\n",
    "intersect = np.sort(intersect[1])\n",
    "ontology_order = ontology_order[intersect]\n",
    "\n",
    "tmp = df_overlap.query(\"navitype=='ALL' & coverage > 0\").copy()\n",
    "tmp.sort_values('transitions',ascending=False,inplace=True)\n",
    "fn = os.path.join(PLOTS_OUTPUT,'lcc_summary_coverage_per_khop_sorted_by_diameter.pdf')\n",
    "plot_by(tmp, 'khop', '%coverage', 'ontology', ontology_order, 2.8, 6, True, 4, (-0.09, 1.02, 1.1, 0.2), \"RdBu_r\", False, True, False, fn)\n"
   ]
  },
  {
   "cell_type": "code",
   "execution_count": null,
   "metadata": {},
   "outputs": [],
   "source": [
    "### SORTED BY NODES in LCC\n",
    "\n",
    "fn = os.path.join(SUMMARY_OUTPUT,'lcc_summary_ontologies_transitions_{}.{}'.format(YEAR,'csv'))\n",
    "df_onto = pd.read_csv(fn, index_col=False)\n",
    "tmp = df_onto.loc[df_onto[\"T'\"] >= MIN_TRANSITIONS].copy()\n",
    "ontology_order = df_onto.sort_values(\"N'\", ascending=False).ontology.unique()\n",
    "\n",
    "intersect = np.intersect1d(ontology_order, df_overlap.ontology.unique(), assume_unique=True, return_indices=True)\n",
    "intersect = np.sort(intersect[1])\n",
    "ontology_order = ontology_order[intersect]\n",
    "\n",
    "tmp = df_overlap.query(\"navitype=='ALL' & coverage > 0\").copy()\n",
    "tmp.sort_values('transitions',ascending=False,inplace=True)\n",
    "fn = os.path.join(PLOTS_OUTPUT,'lcc_summary_coverage_per_khop_sorted_by_nodes.pdf')\n",
    "plot_by(tmp, 'khop', '%coverage', 'ontology', ontology_order, 3, 6, True, 4, (-0.09, 1.02, 1.1, 0.2), \"RdBu_r\", False, True, False, fn)\n"
   ]
  },
  {
   "cell_type": "code",
   "execution_count": null,
   "metadata": {
    "scrolled": true
   },
   "outputs": [],
   "source": [
    "### SORTED BY EDGES in LCC\n",
    "\n",
    "fn = os.path.join(SUMMARY_OUTPUT,'lcc_summary_ontologies_transitions_{}.{}'.format(YEAR,'csv'))\n",
    "df_onto = pd.read_csv(fn, index_col=False)\n",
    "tmp = df_onto.loc[df_onto[\"T'\"] >= MIN_TRANSITIONS].copy()\n",
    "ontology_order = df_onto.sort_values(\"E'\", ascending=False).ontology.unique()\n",
    "\n",
    "intersect = np.intersect1d(ontology_order, df_overlap.ontology.unique(), assume_unique=True, return_indices=True)\n",
    "intersect = np.sort(intersect[1])\n",
    "ontology_order = ontology_order[intersect]\n",
    "\n",
    "tmp = df_overlap.query(\"navitype=='ALL' & coverage > 0\").copy()\n",
    "tmp.sort_values('transitions',ascending=False,inplace=True)\n",
    "fn = os.path.join(PLOTS_OUTPUT,'lcc_summary_coverage_per_khop_sorted_by_edges.pdf')\n",
    "plot_by(tmp, 'khop', '%coverage', 'ontology', ontology_order, 3, 6, True, 4, (-0.09, 1.02, 1.1, 0.2), \"RdBu_r\", False, True, False, fn)\n"
   ]
  },
  {
   "cell_type": "markdown",
   "metadata": {},
   "source": [
    "<h2>Transitions per k-hop</h2>"
   ]
  },
  {
   "cell_type": "code",
   "execution_count": 37,
   "metadata": {},
   "outputs": [
    {
     "name": "stderr",
     "output_type": "stream",
     "text": [
      "/ssd/lespin/virtualenv/python3.5/lib/python3.5/site-packages/scipy/stats/stats.py:1713: FutureWarning: Using a non-tuple sequence for multidimensional indexing is deprecated; use `arr[tuple(seq)]` instead of `arr[seq]`. In the future this will be interpreted as an array index, `arr[np.array(seq)]`, which will result either in an error or a different result.\n",
      "  return np.add.reduce(sorted[indexer] * weights, axis=axis) / sumval\n"
     ]
    },
    {
     "data": {
      "image/png": "[encoded data removed]",
      "text/plain": [
       "<Figure size 432x187.2 with 1 Axes>"
      ]
     },
     "metadata": {},
     "output_type": "display_data"
    }
   ],
   "source": [
    "tmp = df_overlap.query(\"coverage > 0\").copy()\n",
    "navitypes_order = ['DE','DC','DU','EX','EL','ES','LS','ALL']\n",
    "fn = os.path.join(PLOTS_OUTPUT,'lcc_summary_transitions_per_khop.pdf')\n",
    "plot_by(tmp, 'khop', '%transitions', 'navitype', navitypes_order, 2.6, 6, True, 4, (0, 1.02, 1, 0.2), None, False, True, False, fn)\n"
   ]
  },
  {
   "cell_type": "markdown",
   "metadata": {},
   "source": [
    "<h2>Transitions per ontology and navitype (betas)</h2>"
   ]
  },
  {
   "cell_type": "code",
   "execution_count": null,
   "metadata": {},
   "outputs": [],
   "source": [
    "def  plot_betas(onto_name, df, navitypes_order, fn=None):\n",
    "    fig, ax = plt.subplots(1, 1, figsize=(5,3))\n",
    "    cbar_ax = fig.add_axes([.93, .26, .02, .47])\n",
    "\n",
    "    tmp = df.query(\"navitype.isin(@navitypes_order)\").copy()\n",
    "    tmp = tmp.pivot(index='navitype', columns='khop', values='%transitions')\n",
    "    \n",
    "    tmp.loc[:,0] = 0\n",
    "    tmp = tmp.reindex(sorted(tmp.columns), axis=1)\n",
    "    \n",
    "    tmp = tmp + 1 #0.001\n",
    "    tmp = tmp.div(tmp.sum(axis=1), axis='index')*100\n",
    "    tmp.rename(columns={c:r'$\\beta{}$'.format(c) for c in tmp.columns}, inplace=True)\n",
    "    tmp = tmp.reindex(navitypes_order)\n",
    "      \n",
    "    ax = sns.heatmap(tmp, \n",
    "                     ax = ax,\n",
    "                     cbar_ax = cbar_ax,\n",
    "                     cbar = True,\n",
    "                     cmap = \"Blues\",\n",
    "                     square = False)\n",
    "\n",
    "    _ = ax.set_title(onto_name)\n",
    "    _ = ax.set_xticklabels(ax.get_xticklabels(), rotation=0 if len(tmp.columns) <= 10 else 90)\n",
    "    _ = ax.set_yticklabels(ax.get_yticklabels(), rotation=0)\n",
    "    _ = ax.set_xlabel('')\n",
    "    _ = ax.hlines([y-0.03 for y in np.arange(len(navitypes_order))], *ax.get_xlim(), color='white')\n",
    "    \n",
    "    if fn is not None:\n",
    "        plt.savefig(fn, bbox_inches='tight' )\n",
    "        print('{} saved!'.format(fn))\n",
    "    plt.show()\n",
    "    plt.clf()     \n"
   ]
  },
  {
   "cell_type": "code",
   "execution_count": null,
   "metadata": {
    "scrolled": false
   },
   "outputs": [],
   "source": [
    "navitypes_order = ['DE','DC','DU','EX','EL','ES','LS','ALL']\n",
    "tmp = df_overlap.query(\"khop <= diameter\").copy()\n",
    "for onto_name, df in tmp.groupby('ontology'):\n",
    "    fn = os.path.join(PLOTS_OUTPUT,'lcc_betas_{}_{}.pdf'.format(onto_name,YEAR))\n",
    "    _ = plot_betas(onto_name, df, navitypes_order, fn)"
   ]
  },
  {
   "cell_type": "code",
   "execution_count": null,
   "metadata": {
    "scrolled": false
   },
   "outputs": [],
   "source": [
    "def plot_betas_zero(onto_name, df, navitypes_order, fn=None):\n",
    "    fig, ax = plt.subplots(1, 1, figsize=(5,3))\n",
    "    cbar_ax = fig.add_axes([.93, .26, .02, .47])\n",
    "\n",
    "    tmp = df.query(\"navitype.isin(@navitypes_order)\").copy()\n",
    "    tmp = tmp.pivot(index='navitype', columns='khop', values='%transitions')\n",
    "\n",
    "    tmp.loc[:,0] = 0\n",
    "    tmp = tmp.reindex(sorted(tmp.columns), axis=1)\n",
    "    \n",
    "    tmp = tmp + 1\n",
    "    tmp = tmp.div(tmp.sum(axis=1), axis='index')*100 #row norm\n",
    "    tmp.rename(columns={c:r'$\\beta{}$'.format(c) for c in tmp.columns}, inplace=True)\n",
    "    tmp = tmp.reindex(navitypes_order)\n",
    "                \n",
    "    ax = sns.heatmap(tmp, \n",
    "                     ax = ax,\n",
    "                     cbar_ax = cbar_ax,\n",
    "                     cbar = True,\n",
    "                     cmap = \"Blues\",\n",
    "                     square = False)\n",
    "\n",
    "    _ = ax.set_title(onto_name)\n",
    "    _ = ax.set_xticklabels(ax.get_xticklabels(), rotation=0 if len(tmp.columns) <= 10 else 90)\n",
    "    _ = ax.set_yticklabels(ax.get_yticklabels(), rotation=0)\n",
    "    _ = ax.set_xlabel('')\n",
    "    _ = ax.hlines([y-0.03 for y in np.arange(len(navitypes_order))], *ax.get_xlim(), color='white')\n",
    "    \n",
    "    if fn is not None:\n",
    "        plt.savefig(fn, bbox_inches='tight' )\n",
    "        print('{} saved!'.format(fn))\n",
    "    plt.show()\n",
    "    plt.clf()     \n",
    "\n",
    "    \n",
    "navitypes_order = ['DE','DC','DU','EX','EL','ES','LS','ALL']\n",
    "tmp = df_overlap.query(\"khop <= diameter\").copy()\n",
    "for onto_name, df in tmp.groupby('ontology'):\n",
    "\n",
    "    if onto_name != 'MEDDRA':\n",
    "        continue\n",
    "    \n",
    "    fn = os.path.join(PLOTS_OUTPUT,'lcc_betas_{}_{}.pdf'.format(onto_name,YEAR))\n",
    "    _ = plot_betas_zero(onto_name, df, navitypes_order, fn)"
   ]
  },
  {
   "cell_type": "code",
   "execution_count": null,
   "metadata": {},
   "outputs": [],
   "source": []
  },
  {
   "cell_type": "code",
   "execution_count": null,
   "metadata": {},
   "outputs": [],
   "source": []
  }
 ],
 "metadata": {
  "kernelspec": {
   "display_name": "Python 3",
   "language": "python",
   "name": "python3"
  },
  "language_info": {
   "codemirror_mode": {
    "name": "ipython",
    "version": 3
   },
   "file_extension": ".py",
   "mimetype": "text/x-python",
   "name": "python",
   "nbconvert_exporter": "python",
   "pygments_lexer": "ipython3",
   "version": "3.5.2"
  }
 },
 "nbformat": 4,
 "nbformat_minor": 2
}
