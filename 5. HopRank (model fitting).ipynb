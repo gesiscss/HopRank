{
 "cells": [
  {
   "cell_type": "code",
   "execution_count": null,
   "metadata": {},
   "outputs": [],
   "source": [
    "import sys\n",
    "# !{sys.executable} -m pip install tldextract"
   ]
  },
  {
   "cell_type": "markdown",
   "metadata": {},
   "source": [
    "<div style='text-align:center;'>\n",
    "<h1>HopRank</h1>\n",
    "<h2>Model Fitting</h2>\n",
    "</div>"
   ]
  },
  {
   "cell_type": "code",
   "execution_count": 12,
   "metadata": {},
   "outputs": [],
   "source": [
    "__author__ = \"Lisette Espin-Noboa\"\n",
    "__copyright__ = \"Copyright 2018, HopRank\"\n",
    "__credits__ = [\"Florian Lemmerich\", \"Markus Strohmaier\", \"Simon Walk\", \"Mark Musen\"]\n",
    "__license__ = \"GPL\"\n",
    "__version__ = \"1.0.3\"\n",
    "__maintainer__ = \"Lisette Espin-Noboa\"\n",
    "__email__ = \"Lisette.Espin@gesis.org\"\n",
    "__status__ = \"Developing\"\n",
    "\n",
    "########################################################################################\n",
    "# Warnings\n",
    "########################################################################################\n",
    "import warnings\n",
    "warnings.filterwarnings(\"ignore\", message=\"numpy.dtype size changed\")\n",
    "warnings.filterwarnings(\"ignore\", message=\"numpy.ufunc size changed\")"
   ]
  },
  {
   "cell_type": "markdown",
   "metadata": {},
   "source": [
    "<h2>Dependencies</h2>"
   ]
  },
  {
   "cell_type": "code",
   "execution_count": 48,
   "metadata": {},
   "outputs": [],
   "source": [
    "########################################################################################\n",
    "# System\n",
    "########################################################################################\n",
    "import os\n",
    "import importlib\n",
    "import numpy as np\n",
    "import pandas as pd\n",
    "import seaborn as sns\n",
    "import networkx as nx\n",
    "from collections import Counter\n",
    "from joblib import Parallel, delayed\n",
    "import matplotlib as mpl\n",
    "import matplotlib.pyplot as plt \n",
    "from collections import defaultdict\n",
    "from scipy.sparse import csr_matrix\n",
    "\n",
    "########################################################################################\n",
    "# Local Dependencies\n",
    "########################################################################################\n",
    "%reload_ext autoreload\n",
    "%autoreload 2\n",
    "from org.gesis.libs.bioportal.ontology import Ontology\n",
    "from org.gesis.libs.bioportal.transition import Transition\n",
    "from org.gesis.libs.bioportal.clickstream import NAVITYPES\n",
    "from org.gesis.libs.bioportal.clickstream import load_clickstream\n",
    "from org.gesis.libs.bioportal.clickstream import preprocess_clickstream\n",
    "from org.gesis.libs.bioportal.clickstream import preprocess_sessions\n",
    "from org.gesis.libs.bioportal.clickstream import clean_clickstream\n",
    "from org.gesis.libs.bioportal.submission import get_submissions\n",
    "from org.gesis.libs.utils import log\n",
    "from org.gesis.libs.utils import weighted_to_undirected\n",
    "from org.gesis.libs.utils import to_symmetric\n",
    "from org.gesis.libs.models.randomwalk import RandomWalk\n",
    "from org.gesis.libs.models.markovchain import MarkovChain\n",
    "from org.gesis.libs.models.hoprank import HopRank\n",
    "from org.gesis.libs.models.preferential import PreferentialAttachment\n",
    "from org.gesis.libs.models.gravitational import Gravitational\n",
    "\n",
    "########################################################################################\n",
    "# Plot's style\n",
    "########################################################################################\n",
    "sns.set_context(context=\"paper\", font_scale=1.5)\n",
    "sns.set_style(\"whitegrid\")"
   ]
  },
  {
   "cell_type": "markdown",
   "metadata": {},
   "source": [
    "<h2>Constants</h2>"
   ]
  },
  {
   "cell_type": "code",
   "execution_count": 18,
   "metadata": {},
   "outputs": [],
   "source": [
    "SM = 'submission'\n",
    "SUBMISSIONS_FN = '/bigdata/lespin/datasets/bioportal/submissions.json'\n",
    "\n",
    "ON = 'ontology'\n",
    "ONTOLOGY_ROOT = '/bigdata/lespin/datasets/bioportal/ontologies'\n",
    "ONTOLOGY_GRAPH_OUTPUT = '/bigdata/lespin/bioportal/ontologies/graph'\n",
    "ONTOLOGY_ADJACENCY_OUTPUT = '/bigdata/lespin/bioportal/ontologies/matrix'\n",
    "ONTOLOGY_NODES_OUTPUT = '/bigdata/lespin/bioportal/ontologies/nodes'\n",
    "ONTOLOGY_HOPS_OUTPUT = '/bigdata/lespin/bioportal/ontologies/hops'\n",
    "\n",
    "CS = 'clickstream'\n",
    "CS_FN = 'BP_webpage_requests_<YEAR><POSTFIX>.csv.bz2'\n",
    "CLICKSTREAM_ROOT = '/bigdata/lespin/datasets/bioportal/clickstream/'\n",
    "CLICKSTREAM_DF = '/bigdata/lespin/bioportal/clickstreams'\n",
    "\n",
    "TR = 'transitions'\n",
    "TRANS_GRAPH_OUTPUT = '/bigdata/lespin/bioportal/transitions/graph'\n",
    "TRANS_ADJACENCY_OUTPUT = '/bigdata/lespin/bioportal/transitions/matrix'\n",
    "TRANS_NODES_OUTPUT = '/bigdata/lespin/bioportal/transitions/nodes'\n",
    "LCC_TRANS_GRAPH_OUTPUT = '/bigdata/lespin/bioportal/transitions_in_lcc/graph'\n",
    "LCC_TRANS_ADJACENCY_OUTPUT = '/bigdata/lespin/bioportal/transitions_in_lcc/matrix'\n",
    "LCC_TRANS_NODES_OUTPUT = '/bigdata/lespin/bioportal/transitions_in_lcc/nodes'\n",
    "\n",
    "SU = 'summary'\n",
    "LOG_OUTPUT = '/bigdata/lespin/bioportal/logs'\n",
    "PLOTS_OUTPUT = '/bigdata/lespin/bioportal/plots'\n",
    "SUMMARY_OUTPUT = '/bigdata/lespin/bioportal/summary'\n",
    "YEAR = '2015'\n",
    "\n",
    "LAG_BREAK_IN_MINUTES = 60\n",
    "MIN_SESSION_LENGTH = 2\n",
    "MIN_REQ = 1000\n",
    "MIN_TRANSITIONS = 1000\n",
    "MAXKHOPS = 30"
   ]
  },
  {
   "cell_type": "markdown",
   "metadata": {},
   "source": [
    "<div style='text-align:center;'>\n",
    "<h1>Functions</h1>\n",
    "</div>"
   ]
  },
  {
   "cell_type": "code",
   "execution_count": null,
   "metadata": {},
   "outputs": [],
   "source": []
  },
  {
   "cell_type": "markdown",
   "metadata": {},
   "source": [
    "<div style='text-align:center;'>\n",
    "<h1>Overlaps</h1>\n",
    "</div>"
   ]
  },
  {
   "cell_type": "code",
   "execution_count": 49,
   "metadata": {
    "scrolled": true
   },
   "outputs": [],
   "source": [
    "M = csr_matrix(np.array([[0,1,1],[1,0,1],[0,1,0]]))\n",
    "T = csr_matrix(np.array([[0,10,1],[4,0,100],[1,60,0]]))"
   ]
  },
  {
   "cell_type": "code",
   "execution_count": 50,
   "metadata": {},
   "outputs": [
    {
     "data": {
      "text/plain": [
       "(189.85603566397117, 189.85603566397117)"
      ]
     },
     "execution_count": 50,
     "metadata": {},
     "output_type": "execute_result"
    }
   ],
   "source": [
    "rw = RandomWalk(M,T,0.85)\n",
    "rw.compute_loglikelihood()\n",
    "rw.AIC()\n",
    "rw.BIC()\n",
    "rw.aic, rw.bic"
   ]
  },
  {
   "cell_type": "code",
   "execution_count": 52,
   "metadata": {},
   "outputs": [
    {
     "data": {
      "text/plain": [
       "(56.955707922724166, 66.3276250241177)"
      ]
     },
     "execution_count": 52,
     "metadata": {},
     "output_type": "execute_result"
    }
   ],
   "source": [
    "rw = MarkovChain(M,T)\n",
    "rw.compute_loglikelihood()\n",
    "rw.AIC()\n",
    "rw.BIC()\n",
    "rw.aic, rw.bic"
   ]
  },
  {
   "cell_type": "code",
   "execution_count": 53,
   "metadata": {},
   "outputs": [
    {
     "data": {
      "text/plain": [
       "(329.46580942530204, 329.46580942530204)"
      ]
     },
     "execution_count": 53,
     "metadata": {},
     "output_type": "execute_result"
    }
   ],
   "source": [
    "rw = PreferentialAttachment(M,T)\n",
    "rw.compute_loglikelihood()\n",
    "rw.AIC()\n",
    "rw.BIC()\n",
    "rw.aic, rw.bic"
   ]
  },
  {
   "cell_type": "code",
   "execution_count": null,
   "metadata": {},
   "outputs": [],
   "source": [
    "rw = Gravitational(M,T,khop)\n",
    "rw.compute_loglikelihood()\n",
    "rw.AIC()\n",
    "rw.BIC()\n",
    "rw.aic, rw.bic"
   ]
  },
  {
   "cell_type": "code",
   "execution_count": null,
   "metadata": {},
   "outputs": [],
   "source": [
    "rw = HopRank(M,T,khop,betas)\n",
    "rw.compute_loglikelihood()\n",
    "rw.AIC()\n",
    "rw.BIC()\n",
    "rw.aic, rw.bic"
   ]
  }
 ],
 "metadata": {
  "kernelspec": {
   "display_name": "Python 3",
   "language": "python",
   "name": "python3"
  },
  "language_info": {
   "codemirror_mode": {
    "name": "ipython",
    "version": 3
   },
   "file_extension": ".py",
   "mimetype": "text/x-python",
   "name": "python",
   "nbconvert_exporter": "python",
   "pygments_lexer": "ipython3",
   "version": "3.5.2"
  }
 },
 "nbformat": 4,
 "nbformat_minor": 2
}
